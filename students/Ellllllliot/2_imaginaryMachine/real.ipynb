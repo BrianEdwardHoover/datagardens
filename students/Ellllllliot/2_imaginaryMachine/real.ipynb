{
 "cells": [
  {
   "cell_type": "code",
   "execution_count": 2,
   "metadata": {
    "collapsed": true
   },
   "outputs": [],
   "source": [
    "def hi():\n",
    "    print('hi')\n",
    "    "
   ]
  },
  {
   "cell_type": "code",
   "execution_count": 3,
   "metadata": {},
   "outputs": [
    {
     "name": "stdout",
     "output_type": "stream",
     "text": [
      "hi\n"
     ]
    }
   ],
   "source": [
    "hi()"
   ]
  },
  {
   "cell_type": "markdown",
   "metadata": {},
   "source": [
    "# Let's get real."
   ]
  },
  {
   "cell_type": "markdown",
   "metadata": {},
   "source": [
    "So this is the real code to use. Where I import my CSV, do manipulation. It's the only way to black box what spits out on the other side. The data is from Dgomonov, a user on Kaggle. \"NYC AirBnB open data\""
   ]
  },
  {
   "cell_type": "code",
   "execution_count": 4,
   "metadata": {
    "collapsed": true
   },
   "outputs": [],
   "source": [
    "import numpy as np\n",
    "import pandas as pd\n",
    "\n",
    "from pandas import Series, DataFrame"
   ]
  },
  {
   "cell_type": "markdown",
   "metadata": {},
   "source": [
    "Let's first set a global, called i. We will call this to grab from our Excel file."
   ]
  },
  {
   "cell_type": "code",
   "execution_count": 5,
   "metadata": {
    "collapsed": true
   },
   "outputs": [],
   "source": [
    "i = 0"
   ]
  },
  {
   "cell_type": "code",
   "execution_count": 7,
   "metadata": {},
   "outputs": [],
   "source": [
    "df = pd.read_csv('/Users/elliotallard/Documents/OneDrive/Documents/Art/DataGardens/faketuring/content.csv')\n",
    "df.columns = ['id', 'name', 'host_id', 'host_name', 'neighbourhood_group', 'neighbourhood', 'latitude', 'longitude', 'room_type', 'price', 'minimum_nights', 'number_of_reviews', 'last_review']\n",
    "# print(df)"
   ]
  },
  {
   "cell_type": "code",
   "execution_count": 8,
   "metadata": {},
   "outputs": [
    {
     "data": {
      "text/html": [
       "<div>\n",
       "<style>\n",
       "    .dataframe thead tr:only-child th {\n",
       "        text-align: right;\n",
       "    }\n",
       "\n",
       "    .dataframe thead th {\n",
       "        text-align: left;\n",
       "    }\n",
       "\n",
       "    .dataframe tbody tr th {\n",
       "        vertical-align: top;\n",
       "    }\n",
       "</style>\n",
       "<table border=\"1\" class=\"dataframe\">\n",
       "  <thead>\n",
       "    <tr style=\"text-align: right;\">\n",
       "      <th></th>\n",
       "      <th>id</th>\n",
       "      <th>name</th>\n",
       "      <th>host_id</th>\n",
       "      <th>host_name</th>\n",
       "      <th>neighbourhood_group</th>\n",
       "      <th>neighbourhood</th>\n",
       "      <th>latitude</th>\n",
       "      <th>longitude</th>\n",
       "      <th>room_type</th>\n",
       "      <th>price</th>\n",
       "      <th>minimum_nights</th>\n",
       "      <th>number_of_reviews</th>\n",
       "      <th>last_review</th>\n",
       "    </tr>\n",
       "  </thead>\n",
       "  <tbody>\n",
       "    <tr>\n",
       "      <th>0</th>\n",
       "      <td>53137</td>\n",
       "      <td>Quiet, sunny Midtown Manhattan apt.</td>\n",
       "      <td>240360</td>\n",
       "      <td>Marlaine</td>\n",
       "      <td>Manhattan</td>\n",
       "      <td>Hell's Kitchen</td>\n",
       "      <td>40.76244</td>\n",
       "      <td>-73.99271</td>\n",
       "      <td>Entire home/apt</td>\n",
       "      <td>195</td>\n",
       "      <td>5</td>\n",
       "      <td>10</td>\n",
       "      <td>7/1/19</td>\n",
       "    </tr>\n",
       "    <tr>\n",
       "      <th>1</th>\n",
       "      <td>53196</td>\n",
       "      <td>Big Room/Washer-Dryer/Wifi/AC/JMZ</td>\n",
       "      <td>247432</td>\n",
       "      <td>Charlotte</td>\n",
       "      <td>Brooklyn</td>\n",
       "      <td>Bedford-Stuyvesant</td>\n",
       "      <td>40.69546</td>\n",
       "      <td>-73.93503</td>\n",
       "      <td>Private room</td>\n",
       "      <td>80</td>\n",
       "      <td>2</td>\n",
       "      <td>11</td>\n",
       "      <td>11/13/17</td>\n",
       "    </tr>\n",
       "    <tr>\n",
       "      <th>2</th>\n",
       "      <td>53469</td>\n",
       "      <td>cozy studio with parking spot</td>\n",
       "      <td>204539</td>\n",
       "      <td>Mark</td>\n",
       "      <td>Queens</td>\n",
       "      <td>Middle Village</td>\n",
       "      <td>40.71722</td>\n",
       "      <td>-73.87856</td>\n",
       "      <td>Entire home/apt</td>\n",
       "      <td>98</td>\n",
       "      <td>30</td>\n",
       "      <td>33</td>\n",
       "      <td>5/9/15</td>\n",
       "    </tr>\n",
       "    <tr>\n",
       "      <th>3</th>\n",
       "      <td>53470</td>\n",
       "      <td>Clean and convenient 2BR apartment</td>\n",
       "      <td>204539</td>\n",
       "      <td>Mark</td>\n",
       "      <td>Queens</td>\n",
       "      <td>Ridgewood</td>\n",
       "      <td>40.70234</td>\n",
       "      <td>-73.89816</td>\n",
       "      <td>Private room</td>\n",
       "      <td>140</td>\n",
       "      <td>7</td>\n",
       "      <td>6</td>\n",
       "      <td>10/8/15</td>\n",
       "    </tr>\n",
       "    <tr>\n",
       "      <th>4</th>\n",
       "      <td>17693</td>\n",
       "      <td>HARLEM, NEW YORK WELCOMES YOU!!</td>\n",
       "      <td>68428</td>\n",
       "      <td>Tye And Etienne</td>\n",
       "      <td>Manhattan</td>\n",
       "      <td>Washington Heights</td>\n",
       "      <td>40.83139</td>\n",
       "      <td>-73.94095</td>\n",
       "      <td>Private room</td>\n",
       "      <td>65</td>\n",
       "      <td>2</td>\n",
       "      <td>49</td>\n",
       "      <td>6/18/19</td>\n",
       "    </tr>\n",
       "  </tbody>\n",
       "</table>\n",
       "</div>"
      ],
      "text/plain": [
       "      id                                 name  host_id        host_name  \\\n",
       "0  53137  Quiet, sunny Midtown Manhattan apt.   240360         Marlaine   \n",
       "1  53196    Big Room/Washer-Dryer/Wifi/AC/JMZ   247432        Charlotte   \n",
       "2  53469        cozy studio with parking spot   204539             Mark   \n",
       "3  53470   Clean and convenient 2BR apartment   204539             Mark   \n",
       "4  17693      HARLEM, NEW YORK WELCOMES YOU!!    68428  Tye And Etienne   \n",
       "\n",
       "  neighbourhood_group       neighbourhood  latitude  longitude  \\\n",
       "0           Manhattan      Hell's Kitchen  40.76244  -73.99271   \n",
       "1            Brooklyn  Bedford-Stuyvesant  40.69546  -73.93503   \n",
       "2              Queens      Middle Village  40.71722  -73.87856   \n",
       "3              Queens           Ridgewood  40.70234  -73.89816   \n",
       "4           Manhattan  Washington Heights  40.83139  -73.94095   \n",
       "\n",
       "         room_type  price  minimum_nights  number_of_reviews last_review  \n",
       "0  Entire home/apt    195               5                 10      7/1/19  \n",
       "1     Private room     80               2                 11    11/13/17  \n",
       "2  Entire home/apt     98              30                 33      5/9/15  \n",
       "3     Private room    140               7                  6     10/8/15  \n",
       "4     Private room     65               2                 49     6/18/19  "
      ]
     },
     "execution_count": 8,
     "metadata": {},
     "output_type": "execute_result"
    }
   ],
   "source": [
    "df.head()"
   ]
  },
  {
   "cell_type": "code",
   "execution_count": 20,
   "metadata": {
    "collapsed": true
   },
   "outputs": [],
   "source": [
    "def speak(whatever):\n",
    "    if 'where' in whatever:\n",
    "        return df['neighbourhood'].sample(n=1).iloc[0]\n",
    "    if \"what\" in whatever:\n",
    "        return df['name'].sample(n=1).iloc[0]\n",
    "    if 'who' in whatever:\n",
    "        return df['host_name'].sample(n=1).iloc[0]\n",
    "    if 'how' in whatever:\n",
    "        return df['room_type'].sample(n=1).iloc[0]\n",
    "    if 'show' in whatever:\n",
    "        return df['name'].sample(n=6).iloc[0:5]\n",
    "    if 'book' in whatever:\n",
    "        return \"Your hotel will cost \" + str(df['price'].sample(n=1).iloc[0]) + \" dollas.\"\n",
    "    else:\n",
    "        return 'Please wait'\n",
    "\n",
    "        "
   ]
  },
  {
   "cell_type": "code",
   "execution_count": 12,
   "metadata": {},
   "outputs": [
    {
     "data": {
      "text/plain": [
       "'Your hotel will cost 1    80\\nName: price, dtype: int64'"
      ]
     },
     "execution_count": 12,
     "metadata": {},
     "output_type": "execute_result"
    }
   ],
   "source": [
    "speak(\"book time is it\")"
   ]
  },
  {
   "cell_type": "code",
   "execution_count": 19,
   "metadata": {},
   "outputs": [
    {
     "data": {
      "text/plain": [
       "4      65\n",
       "0     195\n",
       "13    189\n",
       "5     100\n",
       "2      98\n",
       "Name: price, dtype: int64"
      ]
     },
     "execution_count": 19,
     "metadata": {},
     "output_type": "execute_result"
    }
   ],
   "source": [
    "df['price'].sample(n=6).iloc[0:5]"
   ]
  },
  {
   "cell_type": "code",
   "execution_count": 36,
   "metadata": {},
   "outputs": [
    {
     "data": {
      "text/plain": [
       "6    Greenwich Village Stylish Apartment\n",
       "Name: name, dtype: object"
      ]
     },
     "execution_count": 36,
     "metadata": {},
     "output_type": "execute_result"
    }
   ],
   "source": [
    "speak(\"what other options are there?\")"
   ]
  },
  {
   "cell_type": "code",
   "execution_count": 37,
   "metadata": {},
   "outputs": [
    {
     "data": {
      "text/plain": [
       "7    The gem of the East Village\n",
       "Name: name, dtype: object"
      ]
     },
     "execution_count": 37,
     "metadata": {},
     "output_type": "execute_result"
    }
   ],
   "source": [
    "speak(\"hmmm maybe not that one. what else?\")"
   ]
  },
  {
   "cell_type": "code",
   "execution_count": 38,
   "metadata": {},
   "outputs": [
    {
     "data": {
      "text/plain": [
       "'Please wait'"
      ]
     },
     "execution_count": 38,
     "metadata": {},
     "output_type": "execute_result"
    }
   ],
   "source": [
    "speak(\"I like that one. Reserve it!\")"
   ]
  },
  {
   "cell_type": "code",
   "execution_count": 39,
   "metadata": {},
   "outputs": [
    {
     "data": {
      "text/plain": [
       "'Please wait'"
      ]
     },
     "execution_count": 39,
     "metadata": {},
     "output_type": "execute_result"
    }
   ],
   "source": [
    "speak(\"I like that one. Who owns it?\")"
   ]
  },
  {
   "cell_type": "code",
   "execution_count": 31,
   "metadata": {},
   "outputs": [
    {
     "data": {
      "text/plain": [
       "12    Amit\n",
       "Name: host_name, dtype: object"
      ]
     },
     "execution_count": 31,
     "metadata": {},
     "output_type": "execute_result"
    }
   ],
   "source": [
    "speak(\"I like that one. who owns it?\")"
   ]
  },
  {
   "cell_type": "code",
   "execution_count": 1,
   "metadata": {},
   "outputs": [
    {
     "ename": "NameError",
     "evalue": "name 'speak' is not defined",
     "output_type": "error",
     "traceback": [
      "\u001b[0;31m---------------------------------------------------------------------------\u001b[0m",
      "\u001b[0;31mNameError\u001b[0m                                 Traceback (most recent call last)",
      "\u001b[0;32m<ipython-input-1-28b1c7c5d996>\u001b[0m in \u001b[0;36m<module>\u001b[0;34m()\u001b[0m\n\u001b[0;32m----> 1\u001b[0;31m \u001b[0mspeak\u001b[0m\u001b[0;34m(\u001b[0m\u001b[0;34m\"they sound nice. \"\u001b[0m\u001b[0;34m)\u001b[0m\u001b[0;34m\u001b[0m\u001b[0m\n\u001b[0m",
      "\u001b[0;31mNameError\u001b[0m: name 'speak' is not defined"
     ]
    }
   ],
   "source": [
    "speak(\"they sound nice. \")"
   ]
  },
  {
   "cell_type": "code",
   "execution_count": null,
   "metadata": {
    "collapsed": true
   },
   "outputs": [],
   "source": []
  }
 ],
 "metadata": {
  "kernelspec": {
   "display_name": "Python 3",
   "language": "python",
   "name": "python3"
  },
  "language_info": {
   "codemirror_mode": {
    "name": "ipython",
    "version": 3
   },
   "file_extension": ".py",
   "mimetype": "text/x-python",
   "name": "python",
   "nbconvert_exporter": "python",
   "pygments_lexer": "ipython3",
   "version": "3.6.1"
  }
 },
 "nbformat": 4,
 "nbformat_minor": 2
}
